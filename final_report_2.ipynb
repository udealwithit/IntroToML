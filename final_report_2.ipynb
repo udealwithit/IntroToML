{
 "cells": [
  {
   "cell_type": "markdown",
   "metadata": {
    "colab_type": "text",
    "id": "UHO9pDpgH4hT"
   },
   "source": [
    "## Quora Insincere questions classification"
   ]
  },
  {
   "cell_type": "markdown",
   "metadata": {
    "colab_type": "text",
    "id": "fkLymbwJsRWC"
   },
   "source": [
    "## Group Information:\n",
    "\n",
    "\n",
    "*   **Aniket Bhatnagar (ab8700)**\n",
    "*   **Dhruv Goyal (dg3278)**\n",
    "*   **Yudhishthir Deshpande (yd1568)**\n",
    "\n",
    "\n"
   ]
  },
  {
   "cell_type": "code",
   "execution_count": 0,
   "metadata": {
    "colab": {
     "base_uri": "https://localhost:8080/",
     "height": 35
    },
    "colab_type": "code",
    "id": "zk3h7LiuoPaO",
    "outputId": "5f27d1b9-82a2-4511-8fb1-f1ddf15c16b0"
   },
   "outputs": [
    {
     "name": "stdout",
     "output_type": "stream",
     "text": [
      "Mounted at /content/drive/\n"
     ]
    }
   ],
   "source": [
    "# Setup the directory to be in sync with notebook\n",
    "from google.colab import drive\n",
    "drive.mount('/content/drive/', force_remount=True)"
   ]
  },
  {
   "cell_type": "code",
   "execution_count": 0,
   "metadata": {
    "colab": {
     "base_uri": "https://localhost:8080/",
     "height": 193
    },
    "colab_type": "code",
    "id": "X3WaMrKzMRMk",
    "outputId": "55b26c3f-7af3-4378-88b9-f886c32990d5"
   },
   "outputs": [
    {
     "name": "stdout",
     "output_type": "stream",
     "text": [
      "Uninstalling Keras-2.2.5:\n",
      "  Would remove:\n",
      "    /usr/local/lib/python3.6/dist-packages/Keras-2.2.5.dist-info/*\n",
      "    /usr/local/lib/python3.6/dist-packages/docs/*\n",
      "    /usr/local/lib/python3.6/dist-packages/keras/*\n",
      "  Would not remove (might be manually added):\n",
      "    /usr/local/lib/python3.6/dist-packages/docs/md_autogen.py\n",
      "    /usr/local/lib/python3.6/dist-packages/docs/update_docs.py\n",
      "Proceed (y/n)? y\n",
      "  Successfully uninstalled Keras-2.2.5\n"
     ]
    }
   ],
   "source": [
    "!pip uninstall keras"
   ]
  },
  {
   "cell_type": "code",
   "execution_count": 0,
   "metadata": {
    "colab": {
     "base_uri": "https://localhost:8080/",
     "height": 299
    },
    "colab_type": "code",
    "id": "PNhZ9AqmMRjG",
    "outputId": "37969ac9-4c58-4faa-a069-c575981f7a9b"
   },
   "outputs": [
    {
     "name": "stdout",
     "output_type": "stream",
     "text": [
      "Collecting keras==2.1.4\n",
      "\u001b[?25l  Downloading https://files.pythonhosted.org/packages/86/45/a273fe3f8fe931a11da34fba1cb74013cfc70dcf93e5d8d329c951dc44c5/Keras-2.1.4-py2.py3-none-any.whl (322kB)\n",
      "\r",
      "\u001b[K     |█                               | 10kB 28.8MB/s eta 0:00:01\r",
      "\u001b[K     |██                              | 20kB 3.0MB/s eta 0:00:01\r",
      "\u001b[K     |███                             | 30kB 4.4MB/s eta 0:00:01\r",
      "\u001b[K     |████                            | 40kB 2.9MB/s eta 0:00:01\r",
      "\u001b[K     |█████                           | 51kB 3.6MB/s eta 0:00:01\r",
      "\u001b[K     |██████                          | 61kB 4.3MB/s eta 0:00:01\r",
      "\u001b[K     |███████▏                        | 71kB 4.9MB/s eta 0:00:01\r",
      "\u001b[K     |████████▏                       | 81kB 5.6MB/s eta 0:00:01\r",
      "\u001b[K     |█████████▏                      | 92kB 6.2MB/s eta 0:00:01\r",
      "\u001b[K     |██████████▏                     | 102kB 4.8MB/s eta 0:00:01\r",
      "\u001b[K     |███████████▏                    | 112kB 4.8MB/s eta 0:00:01\r",
      "\u001b[K     |████████████▏                   | 122kB 4.8MB/s eta 0:00:01\r",
      "\u001b[K     |█████████████▎                  | 133kB 4.8MB/s eta 0:00:01\r",
      "\u001b[K     |██████████████▎                 | 143kB 4.8MB/s eta 0:00:01\r",
      "\u001b[K     |███████████████▎                | 153kB 4.8MB/s eta 0:00:01\r",
      "\u001b[K     |████████████████▎               | 163kB 4.8MB/s eta 0:00:01\r",
      "\u001b[K     |█████████████████▎              | 174kB 4.8MB/s eta 0:00:01\r",
      "\u001b[K     |██████████████████▎             | 184kB 4.8MB/s eta 0:00:01\r",
      "\u001b[K     |███████████████████▎            | 194kB 4.8MB/s eta 0:00:01\r",
      "\u001b[K     |████████████████████▍           | 204kB 4.8MB/s eta 0:00:01\r",
      "\u001b[K     |█████████████████████▍          | 215kB 4.8MB/s eta 0:00:01\r",
      "\u001b[K     |██████████████████████▍         | 225kB 4.8MB/s eta 0:00:01\r",
      "\u001b[K     |███████████████████████▍        | 235kB 4.8MB/s eta 0:00:01\r",
      "\u001b[K     |████████████████████████▍       | 245kB 4.8MB/s eta 0:00:01\r",
      "\u001b[K     |█████████████████████████▍      | 256kB 4.8MB/s eta 0:00:01\r",
      "\u001b[K     |██████████████████████████▌     | 266kB 4.8MB/s eta 0:00:01\r",
      "\u001b[K     |███████████████████████████▌    | 276kB 4.8MB/s eta 0:00:01\r",
      "\u001b[K     |████████████████████████████▌   | 286kB 4.8MB/s eta 0:00:01\r",
      "\u001b[K     |█████████████████████████████▌  | 296kB 4.8MB/s eta 0:00:01\r",
      "\u001b[K     |██████████████████████████████▌ | 307kB 4.8MB/s eta 0:00:01\r",
      "\u001b[K     |███████████████████████████████▌| 317kB 4.8MB/s eta 0:00:01\r",
      "\u001b[K     |████████████████████████████████| 327kB 4.8MB/s \n",
      "\u001b[?25hRequirement already satisfied: numpy>=1.9.1 in /usr/local/lib/python3.6/dist-packages (from keras==2.1.4) (1.17.4)\n",
      "Requirement already satisfied: pyyaml in /usr/local/lib/python3.6/dist-packages (from keras==2.1.4) (3.13)\n",
      "Requirement already satisfied: six>=1.9.0 in /usr/local/lib/python3.6/dist-packages (from keras==2.1.4) (1.12.0)\n",
      "Requirement already satisfied: scipy>=0.14 in /usr/local/lib/python3.6/dist-packages (from keras==2.1.4) (1.3.3)\n",
      "\u001b[31mERROR: textgenrnn 1.4.1 has requirement keras>=2.1.5, but you'll have keras 2.1.4 which is incompatible.\u001b[0m\n",
      "Installing collected packages: keras\n",
      "Successfully installed keras-2.1.4\n"
     ]
    },
    {
     "data": {
      "application/vnd.colab-display-data+json": {
       "pip_warning": {
        "packages": [
         "keras"
        ]
       }
      }
     },
     "metadata": {
      "tags": []
     },
     "output_type": "display_data"
    }
   ],
   "source": [
    "!pip install keras==2.1.4"
   ]
  },
  {
   "cell_type": "markdown",
   "metadata": {
    "colab_type": "text",
    "id": "72b-3Z7KIOU8"
   },
   "source": [
    "### **Introduction**\n",
    "Quora is generally used for the purpose of knowledge sharing, where people across continents can put forth any questions that they have, and experts/ non-experts in that domain can revert back with an answer.\n",
    "\n",
    "However, some questions intend to make a statement rather than looking for helpful answers, or are completely absurd and have no factual relevance. Quora marks such questions as Insincere, and in past hosted a kaggle competition to identify such questions. [1]\n",
    "\n",
    "These questions can become a threat to the concept of a safe internet as some of these questions can imply negative opinion or promote hatred towards certain sections of society.\n",
    "\n",
    "Furthermore, quora is extensively used by school and college students to seek answers pertaining to their school/ college curriculum and career development, and thus, the presence of such questions can be detrimental to the society at large.\n",
    "\n",
    "In this project, we aim to develop a machine learning classifier to categorize insincere questions from the dataset hosted by Quora on kaggle.\n"
   ]
  },
  {
   "cell_type": "markdown",
   "metadata": {
    "colab_type": "text",
    "id": "tHR-saW0LKzQ"
   },
   "source": [
    "### **Problem definition**\n",
    "In this project, we aim to explore different machine learning classifiers and find the best classifier to categorize insincere questions from the dataset hosted by Quora on kaggle.\n",
    "\n",
    "The input provided to solve the problem consists of list of questions, which we refer to hereafter as `full_text_data`, where `full_text_data[i]` represents a question in the dataset and can consist of arbitrary number of words.\n",
    "\n",
    "For the present problem, we consider all the insincere questions to have label 1, while  all the sincere questions to have a label of 0. Thus, we consider all **sincere questions** to represent the **negative class**, while all **insincere questions** to represent the **positive  class**.\n"
   ]
  },
  {
   "cell_type": "markdown",
   "metadata": {
    "colab_type": "text",
    "id": "cM6qk9c-MUqY"
   },
   "source": [
    "### **Experimental Evaluation**\n",
    "#### **1. Data-set description**:\n",
    "Quora's insincere question classification dataset consisted a total of **1,306,122** questions. While, the number of questions marked as insincere accounted for only **80,810** questions.\n",
    "\n",
    "Thus only **6.19**% of the questions in the entire corpus are marked as Insincere. Hence, the dataset is highly skewed as the number of sincere questions far outnumber the number of insincere questions.\n",
    "\n",
    "Furthermore, we analyzed relation between no of unique words in the dataset and the fraction of their occurence across each document (or document frequency). Noting down our observations:\n",
    "\n",
    "statistic checked | value\n",
    "--- | --- \n",
    "Total no of unique words in the dataset | 195,000\n",
    "Words that appear in >= 0.1% documents | 1260\n",
    "Words that appear in >= 0.01% documents | 7660\n",
    "Words that appear  in >= 0.001% documents | 28583\n",
    "\n",
    "Above observations are helpful when deciding the threshold for the no of words to be kept inside the vocabulary, as words which occur with rarer document  frequency  than 0.001%, most likely will not contribute much to the training of ML classifier.\n",
    "\n",
    "Lastly, to check variation in the length of different questions present in the dataset, we sorted the questions wrt no of words contained in them, and report the no of words contained in question at different percentile value of the sorted list.\n",
    "\n",
    "statistic checked | value\n",
    "--- | --- \n",
    "No of words in question with length at 50th percentile | 11\n",
    "No of words in question with length at 80th percentile | 17\n",
    "No of words in question with length at 90th percentile | 22\n",
    "No of words in question with length at 99th percentile | 39\n",
    "\n",
    "After that, we repeated similar analysis for only the positive class (insincere questions class) samples.\n",
    "\n",
    "statistic checked | value\n",
    "--- | --- \n",
    "No of words in question with length at 50th percentile | 15\n",
    "No of words in question with length at 80th percentile | 25\n",
    "No of words in question with length at 90th percentile | 31\n",
    "No of words in question with length at 99th percentile | 44\n",
    "\n",
    "Above observations are helpful when deciding sequence length for traininig CNN on the above dataseet. Explained in later section."
   ]
  },
  {
   "cell_type": "markdown",
   "metadata": {
    "colab_type": "text",
    "id": "u6ih19y-YXGS"
   },
   "source": [
    "#### **2. Methodology**\n",
    "##### **2.1 Train-test split**\n",
    "We first load the data and then split it into two sets, train and test sets. Since, the data is highly skewed, the sklearn’s train_test_split package will ensure that the distribution of labels of either category is similar across both the splits. We split the given dataset basis a 70-30 split where 70% samples would be used for  traininig, and remaining 30% for evaluating the model."
   ]
  },
  {
   "cell_type": "code",
   "execution_count": 0,
   "metadata": {
    "colab": {
     "base_uri": "https://localhost:8080/",
     "height": 52
    },
    "colab_type": "code",
    "id": "QHtAvWchmFvS",
    "outputId": "9b04da34-38c4-4cf6-fe1d-ba536e292d99"
   },
   "outputs": [
    {
     "name": "stdout",
     "output_type": "stream",
     "text": [
      "No of samples in train dataset 914285\n",
      "No of samples in test dataset 391837\n"
     ]
    }
   ],
   "source": [
    "import os\n",
    "import numpy as np\n",
    "import pandas as pd\n",
    "\n",
    "from sklearn.feature_extraction.text import TfidfVectorizer\n",
    "from sklearn.linear_model import LogisticRegression\n",
    "from sklearn.metrics import precision_score, recall_score\n",
    "from sklearn.model_selection import train_test_split, GridSearchCV\n",
    "from sklearn.utils import shuffle, compute_class_weight\n",
    "\n",
    "# Constants and file names\n",
    "DATA_DIR = '/content/drive/My Drive/iml_project/quora_insincere_data'\n",
    "DATA_FILE = os.path.join(DATA_DIR, 'train.csv')\n",
    "\n",
    "# Load data\n",
    "data = pd.read_csv(DATA_FILE, sep=',')\n",
    "data_text = data['question_text']\n",
    "data_labels = data['target']\n",
    "del data\n",
    "\n",
    "# Do train test split\n",
    "train_texts, test_texts, y_train, y_test = train_test_split(\n",
    "    data_text, data_labels, random_state=3, test_size=0.3, shuffle=True\n",
    ")\n",
    "\n",
    "# Convert train_text and test_text to lists\n",
    "train_texts = train_texts.tolist()\n",
    "test_texts = test_texts.tolist()\n",
    "\n",
    "print  (\"No of samples in train dataset\", len(train_texts))\n",
    "print  (\"No of samples in test dataset\", len(test_texts))\n"
   ]
  },
  {
   "cell_type": "markdown",
   "metadata": {
    "colab_type": "text",
    "id": "kXWBz7awnEK-"
   },
   "source": [
    "##### **2.2 Feature Extraction**\n",
    "For the experiments where we utiliize conventional ML classifiers, we plan to extract **tf-idf (Term frequency-inverse document frequency)** scores for only those words in the vocabulary which occur in greater than or equal to **0.001%** documents. We assume that words which occur rarer than that will not contribute much to the training of ML classifier.\n",
    "\n",
    "While, we plan to use **Word vector embeddings** for training **convolutional neural net** on the problem. We plan to compare both the results when training a model with **randomly iniitialized word vector embeddings**, and when initiializing these word vector embeddings from weights made available by Google (by training for word vectors on their **Google News corpus** dataset).  \n",
    "\n",
    "We show data to feature conversion using word vector embeddings when we present the CNN model training code."
   ]
  },
  {
   "cell_type": "code",
   "execution_count": 0,
   "metadata": {
    "colab": {
     "base_uri": "https://localhost:8080/",
     "height": 52
    },
    "colab_type": "code",
    "id": "eaha3n1go1YE",
    "outputId": "0635b032-f93b-4705-dead-3c8a02b3feab"
   },
   "outputs": [
    {
     "name": "stdout",
     "output_type": "stream",
     "text": [
      "Shape of training features matrix (914285, 28592)\n",
      "Shape of test features matrix (391837, 28592)\n"
     ]
    }
   ],
   "source": [
    "# Define feature extractor\n",
    "vectorizer = TfidfVectorizer(lowercase=True, min_df=0.00001)  # Ignore words where document freq is lt 1% or gt 70%.\n",
    "\n",
    "# Train vectorizer on the text data\n",
    "vectorizer.fit(train_texts)\n",
    "X_train = vectorizer.transform(train_texts)\n",
    "X_test = vectorizer.transform(test_texts)\n",
    "\n",
    "print ('Shape of training features matrix', X_train.shape)\n",
    "print ('Shape of test features matrix', X_test.shape)"
   ]
  },
  {
   "cell_type": "markdown",
   "metadata": {
    "colab_type": "text",
    "id": "LmrtRDzaMt2c"
   },
   "source": [
    "##### **2.3 Performance metrics**\n",
    "Since the dataset's positive class, i.e. Insincere questions category is **greatly outnumbered** by the negative class (sincere category) samples. Hence, we can not use accuracy as a performance metric. This is because, if every sample in the dataset is marked sincere, then also the accuracy of the model will be **94%** as the insincere class datapoints in themselves only have a representation of roughly **6%**.\n",
    "\n",
    "For the given problem we use **f1_score** to measure the performance of our classifier, where f1_score is a combinatiion of **precision**  and **recall**, where each  of  these is defined as:\n",
    "\n",
    "    precision  = (TP/TP+FP)\n",
    "    recall = TP/(TP+FN)\n",
    "    f1_score = ((2*precision*recall) / (precision+recall))"
   ]
  },
  {
   "cell_type": "markdown",
   "metadata": {
    "colab_type": "text",
    "id": "RHplYE_pjH32"
   },
   "source": [
    "##### **2.4 Algorithms Used**\n",
    "**2.4.1 Logistic regression with ridge regularization**\n",
    "In this section, we train and evaluate logistic regression classifier (with ridge regularization) on TfIdf feature representation of the data.\n",
    "For  hyper-parameter  selection, we grid search through  multiple values of C, and present plot of train and validation f1-scores for different values of C.  "
   ]
  },
  {
   "cell_type": "code",
   "execution_count": 0,
   "metadata": {
    "colab": {},
    "colab_type": "code",
    "id": "IrrvNLsOab0M"
   },
   "outputs": [],
   "source": [
    "def plot_train_val_scores(train_scores, val_scores, param_values, classifier_type, param_name):\n",
    "    # Plot train val scores\n",
    "    from matplotlib import  pyplot as plt\n",
    "\n",
    "    plt.plot(param_values, train_scores, color='b', label='train f1')\n",
    "    plt.plot(param_values, val_scores, color='r', label='val f1')\n",
    "    plt.title('Performance variation for {} with respect to parameter {}'.format(\n",
    "        classifier_type, param_name\n",
    "    ))\n",
    "    plt.ylabel('f1 measure')\n",
    "    plt.xlabel(param_name + ' param value')\n",
    "    plt.legend(loc='lower right')\n",
    "    plt.show()"
   ]
  },
  {
   "cell_type": "code",
   "execution_count": 0,
   "metadata": {
    "colab": {
     "base_uri": "https://localhost:8080/",
     "height": 456
    },
    "colab_type": "code",
    "id": "5SHN-RVLYUp6",
    "outputId": "b7e911e5-4682-467f-af18-a5085bbf4bf0"
   },
   "outputs": [
    {
     "name": "stderr",
     "output_type": "stream",
     "text": [
      "/usr/local/lib/python3.6/dist-packages/sklearn/model_selection/_split.py:1978: FutureWarning: The default value of cv will change from 3 to 5 in version 0.22. Specify it explicitly to silence this warning.\n",
      "  warnings.warn(CV_WARNING, FutureWarning)\n",
      "/usr/local/lib/python3.6/dist-packages/sklearn/linear_model/logistic.py:432: FutureWarning: Default solver will be changed to 'lbfgs' in 0.22. Specify a solver to silence this warning.\n",
      "  FutureWarning)\n"
     ]
    },
    {
     "data": {
      "image/png": "[encoded data removed]",
      "text/plain": [
       "<Figure size 432x288 with 1 Axes>"
      ]
     },
     "metadata": {
      "tags": []
     },
     "output_type": "display_data"
    },
    {
     "name": "stdout",
     "output_type": "stream",
     "text": [
      "Performance metrics for logistic regressiion  with ridge regression\n",
      "Precision 37.42\n",
      "Recall 86.12\n",
      "f1 score 52.17\n"
     ]
    }
   ],
   "source": [
    "# Define logistic regression object with ridge\n",
    "lr = LogisticRegression(penalty='l2', class_weight='balanced', random_state=5)\n",
    "\n",
    "# Define GridSearch object\n",
    "param_grid = {\n",
    "    'C': [1e-2, 5e-2, 1e-1, 5e-1, 1, 5, 10],\n",
    "}\n",
    "lr_gs = GridSearchCV(lr, param_grid=param_grid, n_jobs=-1, scoring='f1',\n",
    "                     return_train_score=True)\n",
    "\n",
    "# Fit the grid search object and print cv results\n",
    "lr_gs.fit(X_train, y_train)\n",
    "avg_cv_train_scores = lr_gs.cv_results_['mean_train_score']\n",
    "avg_cv_test_scores = lr_gs.cv_results_['mean_test_score']\n",
    "\n",
    "plot_train_val_scores(avg_cv_train_scores, avg_cv_test_scores, param_grid['C'],\n",
    "                      classifier_type='logistic_regression', param_name='C')\n",
    "\n",
    "# Predict on test set and find precision, recall and f1\n",
    "y_preds = lr_gs.predict(X_test)\n",
    "print (\"Performance metrics for logistic regressiion  with ridge regression\")\n",
    "precision = precision_score(y_test, y_preds) * 100\n",
    "recall = recall_score(y_test, y_preds) * 100\n",
    "f1_score = (2 * precision * recall) / (precision + recall)\n",
    "\n",
    "print ('Precision %.2f' % precision)\n",
    "print ('Recall %.2f' % recall)\n",
    "print ('f1 score %.2f' % f1_score)"
   ]
  },
  {
   "cell_type": "markdown",
   "metadata": {
    "colab_type": "text",
    "id": "_i9BUOZkCvCW"
   },
   "source": [
    "**2.4.2 Logistic regression with lasso regularization**\n",
    "In this section, we train and evaluate logistic regression classifier (with lasso regularization) on TfIdf feature representation of the data.\n",
    "Simiilar to ridge regression, for hyper-parameter selection, we grid search through  multiple values of C, and present plot of train and validation f1-scores for different values of C."
   ]
  },
  {
   "cell_type": "code",
   "execution_count": 0,
   "metadata": {
    "colab": {
     "base_uri": "https://localhost:8080/",
     "height": 456
    },
    "colab_type": "code",
    "id": "Qah6YQ7cCOX5",
    "outputId": "76cc6306-3ce2-4f10-8788-8e6d58d6cc47"
   },
   "outputs": [
    {
     "name": "stderr",
     "output_type": "stream",
     "text": [
      "/usr/local/lib/python3.6/dist-packages/sklearn/model_selection/_split.py:1978: FutureWarning: The default value of cv will change from 3 to 5 in version 0.22. Specify it explicitly to silence this warning.\n",
      "  warnings.warn(CV_WARNING, FutureWarning)\n",
      "/usr/local/lib/python3.6/dist-packages/sklearn/linear_model/logistic.py:432: FutureWarning: Default solver will be changed to 'lbfgs' in 0.22. Specify a solver to silence this warning.\n",
      "  FutureWarning)\n"
     ]
    },
    {
     "data": {
      "image/png": "[encoded data removed]",
      "text/plain": [
       "<Figure size 432x288 with 1 Axes>"
      ]
     },
     "metadata": {
      "tags": []
     },
     "output_type": "display_data"
    },
    {
     "name": "stdout",
     "output_type": "stream",
     "text": [
      "Performance metrics for logistic regressiion  with lasso regression\n",
      "Precision 0.37\n",
      "Recall 0.87\n",
      "f1 score 0.52\n"
     ]
    }
   ],
   "source": [
    "# Define logistic regression object with lasso regularization\n",
    "lr = LogisticRegression(penalty='l1', class_weight='balanced', random_state=5)\n",
    "\n",
    "# Define GridSearch object\n",
    "param_grid = {\n",
    "    'C': [1e-2, 5e-2, 1e-1, 5e-1, 1, 5, 10],\n",
    "}\n",
    "lr_gs = GridSearchCV(lr, param_grid=param_grid, n_jobs=-1, scoring='f1',\n",
    "                     return_train_score=True)\n",
    "\n",
    "# Fit the grid search object and print cv results\n",
    "lr_gs.fit(X_train, y_train)\n",
    "avg_cv_train_scores = lr_gs.cv_results_['mean_train_score']\n",
    "avg_cv_test_scores = lr_gs.cv_results_['mean_test_score']\n",
    "\n",
    "plot_train_val_scores(avg_cv_train_scores, avg_cv_test_scores, param_grid['C'],\n",
    "                      classifier_type='logistic_regression with lasso regularization',\n",
    "                      param_name='C')\n",
    "\n",
    "# Predict on test set and find precision, recall and f1\n",
    "y_preds = lr_gs.predict(X_test)\n",
    "print (\"Performance metrics for logistic regressiion  with lasso regression\")\n",
    "precision = precision_score(y_test, y_preds)\n",
    "recall = recall_score(y_test, y_preds)\n",
    "f1_score = (2 * precision * recall) / (precision + recall)\n",
    "\n",
    "print ('Precision %.2f' % precision)\n",
    "print ('Recall %.2f' % recall)\n",
    "print ('f1 score %.2f' % f1_score)"
   ]
  },
  {
   "cell_type": "markdown",
   "metadata": {
    "colab_type": "text",
    "id": "qmlWT3FuUy5_"
   },
   "source": [
    "**2.4.3 Decision Tree**  \n",
    "In this section, we train and evaluate decision tree classifier on TfIdf feature representation of the data.\n",
    "For hyper-parameter selection, we grid search through  multiple values of max-depth, and present plot of train and validation f1-scores for different values of maxc-depth."
   ]
  },
  {
   "cell_type": "code",
   "execution_count": 0,
   "metadata": {
    "colab": {
     "base_uri": "https://localhost:8080/",
     "height": 72
    },
    "colab_type": "code",
    "id": "vUUesQWm1WYt",
    "outputId": "662ebef9-9554-44af-c4c9-44e9270dd3c7"
   },
   "outputs": [
    {
     "name": "stderr",
     "output_type": "stream",
     "text": [
      "/usr/local/lib/python3.6/dist-packages/sklearn/model_selection/_split.py:1978: FutureWarning: The default value of cv will change from 3 to 5 in version 0.22. Specify it explicitly to silence this warning.\n",
      "  warnings.warn(CV_WARNING, FutureWarning)\n"
     ]
    }
   ],
   "source": [
    "from sklearn.tree import DecisionTreeClassifier\n",
    "\n",
    "param_grid = {\n",
    "    'max_depth': [20,30,40,60,85,90,100]\n",
    "}\n",
    "\n",
    "dtree = DecisionTreeClassifier()\n",
    "\n",
    "grid = GridSearchCV(dtree, param_grid=param_grid, n_jobs=-1, scoring='f1',\n",
    "                    return_train_score=True,)\n",
    "grid.fit(X_train, y_train)\n",
    "\n",
    "y_hat = grid.predict(X_test)\n"
   ]
  },
  {
   "cell_type": "code",
   "execution_count": 0,
   "metadata": {
    "colab": {
     "base_uri": "https://localhost:8080/",
     "height": 349
    },
    "colab_type": "code",
    "id": "Eni1ksOpny5c",
    "outputId": "3241d855-2058-4e3b-91aa-cdfc8f29ac7e"
   },
   "outputs": [
    {
     "name": "stdout",
     "output_type": "stream",
     "text": [
      "Precision 0.56\n",
      "Recall 0.39\n",
      "f1 score 0.45\n"
     ]
    },
    {
     "data": {
      "image/png": "[encoded data removed]",
      "text/plain": [
       "<Figure size 432x288 with 1 Axes>"
      ]
     },
     "metadata": {
      "tags": []
     },
     "output_type": "display_data"
    }
   ],
   "source": [
    "def printScores(yhat, ytest):\n",
    "    precision = precision_score(ytest, yhat)\n",
    "    recall = recall_score(ytest, yhat)\n",
    "    f1 = 2*precision*recall/(precision+recall)\n",
    "    print(\"Precision: %.2f\" % precision*100)\n",
    "    print(\"Recall: %.2f\" % recall*100)\n",
    "    print(\"F1 score: %.2f\" % f1*100)\n",
    "\n",
    "# print (y_hat.shape)\n",
    "# printScores(y_hat, y_test)\n",
    "precision = precision_score(y_test, y_hat)\n",
    "recall = recall_score(y_test, y_hat)\n",
    "f1_score = (2 * precision * recall) / (precision + recall)\n",
    "\n",
    "print ('Precision %.2f' % precision)\n",
    "print ('Recall %.2f' % recall)\n",
    "print ('f1 score %.2f' % f1_score)\n",
    "\n",
    "avg_cv_train_scores = grid.cv_results_['mean_train_score']\n",
    "avg_cv_test_scores = grid.cv_results_['mean_test_score']\n",
    "\n",
    "plot_train_val_scores(avg_cv_train_scores, avg_cv_test_scores, param_grid['max_depth'],\n",
    "                      classifier_type='Decision Tree with regularized depth',\n",
    "                      param_name='max_depth')"
   ]
  },
  {
   "cell_type": "markdown",
   "metadata": {
    "colab_type": "text",
    "id": "dVJ_xM7trIqv"
   },
   "source": [
    "**2.4.4 Random Forest**  \n",
    "In this section, we train and evaluate Random Forest classifier on TfIdf feature representation of the data.\n",
    "For hyper-parameter selection, we grid search through  multiple values of n_estimators, and present plot of train and validation f1-scores for different values of n_estimators. According to the previous graph for a decision tree we see that the f1 score on validation does not have a significant increase after a max_depth of 60. Thus we train our data on a random forest of trees with max_depth of 60 "
   ]
  },
  {
   "cell_type": "code",
   "execution_count": 0,
   "metadata": {
    "colab": {
     "base_uri": "https://localhost:8080/",
     "height": 371
    },
    "colab_type": "code",
    "id": "3pQVDqH3rFue",
    "outputId": "d5ff922c-6266-4fa8-b79d-744723186a05"
   },
   "outputs": [
    {
     "name": "stderr",
     "output_type": "stream",
     "text": [
      "/usr/local/lib/python3.6/dist-packages/sklearn/model_selection/_split.py:1978: FutureWarning: The default value of cv will change from 3 to 5 in version 0.22. Specify it explicitly to silence this warning.\n",
      "  warnings.warn(CV_WARNING, FutureWarning)\n"
     ]
    },
    {
     "data": {
      "text/plain": [
       "GridSearchCV(cv='warn', error_score='raise-deprecating',\n",
       "             estimator=RandomForestClassifier(bootstrap=True, class_weight=None,\n",
       "                                              criterion='gini', max_depth=60,\n",
       "                                              max_features='auto',\n",
       "                                              max_leaf_nodes=None,\n",
       "                                              min_impurity_decrease=0.0,\n",
       "                                              min_impurity_split=None,\n",
       "                                              min_samples_leaf=1,\n",
       "                                              min_samples_split=2,\n",
       "                                              min_weight_fraction_leaf=0.0,\n",
       "                                              n_estimators='warn', n_jobs=None,\n",
       "                                              oob_score=False, random_state=42,\n",
       "                                              verbose=0, warm_start=False),\n",
       "             iid='warn', n_jobs=-1,\n",
       "             param_grid={'n_estimators': [5, 10, 15, 20, 25]},\n",
       "             pre_dispatch='2*n_jobs', refit=True, return_train_score=True,\n",
       "             scoring='f1', verbose=0)"
      ]
     },
     "execution_count": 60,
     "metadata": {
      "tags": []
     },
     "output_type": "execute_result"
    }
   ],
   "source": [
    "from sklearn.ensemble import RandomForestClassifier\n",
    "\n",
    "rforest = RandomForestClassifier(max_depth=60, random_state=42)\n",
    "\n",
    "param_grid = {\n",
    "    'n_estimators': [5, 10, 15, 20, 25]\n",
    "}\n",
    "\n",
    "grid_rf = GridSearchCV(rforest, param_grid=param_grid, n_jobs=-1, scoring='f1',\n",
    "                       return_train_score=True)\n",
    "\n",
    "grid_rf.fit(X_train, y_train)"
   ]
  },
  {
   "cell_type": "code",
   "execution_count": 0,
   "metadata": {
    "colab": {
     "base_uri": "https://localhost:8080/",
     "height": 349
    },
    "colab_type": "code",
    "id": "sFuUZQTIr0FZ",
    "outputId": "15c3b9d1-5674-409f-8810-14069ae10c56"
   },
   "outputs": [
    {
     "name": "stdout",
     "output_type": "stream",
     "text": [
      "Precision 0.73\n",
      "Recall 0.06\n",
      "f1 score 0.11\n"
     ]
    },
    {
     "data": {
      "image/png": "[encoded data removed]",
      "text/plain": [
       "<Figure size 432x288 with 1 Axes>"
      ]
     },
     "metadata": {
      "tags": []
     },
     "output_type": "display_data"
    }
   ],
   "source": [
    "y_hat = grid_rf.predict(X_test)\n",
    "\n",
    "precision = precision_score(y_test, y_hat)\n",
    "recall = recall_score(y_test, y_hat)\n",
    "f1_score = (2 * precision * recall) / (precision + recall)\n",
    "\n",
    "print ('Precision %.2f' % precision)\n",
    "print ('Recall %.2f' % recall)\n",
    "print ('f1 score %.2f' % f1_score)\n",
    "\n",
    "avg_cv_train_scores = grid_rf.cv_results_['mean_train_score']\n",
    "avg_cv_test_scores = grid_rf.cv_results_['mean_test_score']\n",
    "\n",
    "plot_train_val_scores(avg_cv_train_scores, avg_cv_test_scores, param_grid['n_estimators'],\n",
    "                      classifier_type='Random Forest for different estimators',\n",
    "                      param_name='n_estimators')"
   ]
  },
  {
   "cell_type": "markdown",
   "metadata": {
    "colab_type": "text",
    "id": "D5E8avSAvdn3"
   },
   "source": [
    "**2.4.4 Single layer neural network**  \n",
    "In this section, we train and evaluate single layer neural network classifier on TfIdf feature representation of the data.\n",
    "\n",
    "We only have one single hidden layer in the network, which accepts tf-idf features as input, and pushes its activations to the output layer, which is a single neuron with sigmoid activation. While, the hidden layer contains 2048 neurons, and each neuron has Relu activation. \n",
    "\n",
    "The network is trained using mini-batch gradient descent with batch size of 128, and adam optimizer. "
   ]
  },
  {
   "cell_type": "code",
   "execution_count": 0,
   "metadata": {
    "colab": {
     "base_uri": "https://localhost:8080/",
     "height": 99
    },
    "colab_type": "code",
    "id": "I1IVN8s5LuM-",
    "outputId": "7004f988-3ef8-4c15-f3e9-9e765eb0b38c"
   },
   "outputs": [
    {
     "name": "stderr",
     "output_type": "stream",
     "text": [
      "Using TensorFlow backend.\n"
     ]
    },
    {
     "data": {
      "text/html": [
       "<p style=\"color: red;\">\n",
       "The default version of TensorFlow in Colab will soon switch to TensorFlow 2.x.<br>\n",
       "We recommend you <a href=\"https://www.tensorflow.org/guide/migrate\" target=\"_blank\">upgrade</a> now \n",
       "or ensure your notebook will continue to use TensorFlow 1.x via the <code>%tensorflow_version 1.x</code> magic:\n",
       "<a href=\"https://colab.research.google.com/notebooks/tensorflow_version.ipynb\" target=\"_blank\">more info</a>.</p>\n"
      ],
      "text/plain": [
       "<IPython.core.display.HTML object>"
      ]
     },
     "metadata": {
      "tags": []
     },
     "output_type": "display_data"
    },
    {
     "name": "stdout",
     "output_type": "stream",
     "text": [
      "2.1.4\n"
     ]
    }
   ],
   "source": [
    "# Keras specific imports\n",
    "from keras import Input\n",
    "from keras import backend as K\n",
    "from keras.callbacks import ModelCheckpoint, EarlyStopping, ReduceLROnPlateau\n",
    "from keras.engine import Model\n",
    "from keras.models import Sequential\n",
    "from keras.layers import Dense, Dropout, MaxPooling2D, merge, Flatten, Embedding, Reshape, Conv2D\n",
    "from keras.optimizers import SGD\n",
    "import keras\n",
    "print (keras.__version__)"
   ]
  },
  {
   "cell_type": "code",
   "execution_count": 0,
   "metadata": {
    "colab": {},
    "colab_type": "code",
    "id": "hyJ9PS0INZDI"
   },
   "outputs": [],
   "source": [
    "# Building keras specific precision, recall and f1 score methods\n",
    "def recall_metric(y_true, y_pred):\n",
    "    true_positives = K.sum(K.round(K.clip(y_true * y_pred, 0, 1)))\n",
    "    possible_positives = K.sum(K.clip(y_true, 0, 1))\n",
    "    recall = true_positives / (possible_positives + K.epsilon())\n",
    "    return recall\n",
    "\n",
    "\n",
    "def precision_metric(y_true, y_pred):\n",
    "    true_positives = K.sum(K.round(K.clip(y_true * y_pred, 0, 1)))\n",
    "    predicted_positives = K.sum(K.round(K.clip(y_pred, 0, 1)))\n",
    "    precision = true_positives / (predicted_positives + K.epsilon())\n",
    "    return precision\n",
    "\n",
    "\n",
    "def f1_metric(y_true, y_pred):\n",
    "    prec = precision_metric(y_true, y_pred)\n",
    "    recall = recall_metric(y_true, y_pred)\n",
    "    f1_score = (2 * prec * recall) / (prec + recall + K.epsilon())\n",
    "    return f1_score"
   ]
  },
  {
   "cell_type": "code",
   "execution_count": 0,
   "metadata": {
    "colab": {
     "base_uri": "https://localhost:8080/",
     "height": 776
    },
    "colab_type": "code",
    "id": "SukVjUZkxNqR",
    "outputId": "edea24c5-2bc8-4776-d145-ac362a5328b9"
   },
   "outputs": [
    {
     "name": "stdout",
     "output_type": "stream",
     "text": [
      "Train on 731428 samples, validate on 182857 samples\n",
      "Epoch 1/20\n",
      "731428/731428 [==============================] - 371s 507us/step - loss: 0.1978 - precision_metric: 0.1023 - recall_metric: 0.0211 - f1_metric: 0.0333 - val_loss: 0.1601 - val_precision_metric: 0.5191 - val_recall_metric: 0.1219 - val_f1_metric: 0.1880\n",
      "Epoch 2/20\n",
      "731428/731428 [==============================] - 366s 501us/step - loss: 0.1451 - precision_metric: 0.6172 - recall_metric: 0.2413 - f1_metric: 0.3274 - val_loss: 0.1392 - val_precision_metric: 0.6356 - val_recall_metric: 0.3612 - val_f1_metric: 0.4417\n",
      "Epoch 3/20\n",
      "731428/731428 [==============================] - 365s 499us/step - loss: 0.1313 - precision_metric: 0.6605 - recall_metric: 0.3434 - f1_metric: 0.4297 - val_loss: 0.1301 - val_precision_metric: 0.6653 - val_recall_metric: 0.3706 - val_f1_metric: 0.4558\n",
      "Epoch 4/20\n",
      "731428/731428 [==============================] - 366s 500us/step - loss: 0.1245 - precision_metric: 0.6744 - recall_metric: 0.3960 - f1_metric: 0.4763 - val_loss: 0.1260 - val_precision_metric: 0.6707 - val_recall_metric: 0.4164 - val_f1_metric: 0.4927\n",
      "Epoch 5/20\n",
      "731428/731428 [==============================] - 365s 499us/step - loss: 0.1199 - precision_metric: 0.6832 - recall_metric: 0.4263 - f1_metric: 0.5029 - val_loss: 0.1230 - val_precision_metric: 0.6728 - val_recall_metric: 0.4432 - val_f1_metric: 0.5133\n",
      "Epoch 6/20\n",
      "731428/731428 [==============================] - 366s 501us/step - loss: 0.1165 - precision_metric: 0.6901 - recall_metric: 0.4451 - f1_metric: 0.5193 - val_loss: 0.1215 - val_precision_metric: 0.6933 - val_recall_metric: 0.4065 - val_f1_metric: 0.4910\n",
      "Epoch 7/20\n",
      "731428/731428 [==============================] - 366s 500us/step - loss: 0.1138 - precision_metric: 0.6943 - recall_metric: 0.4643 - f1_metric: 0.5353 - val_loss: 0.1194 - val_precision_metric: 0.6679 - val_recall_metric: 0.4759 - val_f1_metric: 0.5358\n",
      "Epoch 8/20\n",
      "731428/731428 [==============================] - 368s 503us/step - loss: 0.1115 - precision_metric: 0.7022 - recall_metric: 0.4794 - f1_metric: 0.5476 - val_loss: 0.1183 - val_precision_metric: 0.6869 - val_recall_metric: 0.4389 - val_f1_metric: 0.5152\n",
      "Epoch 9/20\n",
      "731428/731428 [==============================] - 365s 499us/step - loss: 0.1094 - precision_metric: 0.7120 - recall_metric: 0.4938 - f1_metric: 0.5617 - val_loss: 0.1174 - val_precision_metric: 0.6623 - val_recall_metric: 0.5085 - val_f1_metric: 0.5558\n",
      "Epoch 10/20\n",
      "731428/731428 [==============================] - 367s 502us/step - loss: 0.1076 - precision_metric: 0.7149 - recall_metric: 0.5042 - f1_metric: 0.5698 - val_loss: 0.1163 - val_precision_metric: 0.6812 - val_recall_metric: 0.4812 - val_f1_metric: 0.5435\n",
      "Epoch 11/20\n",
      "731428/731428 [==============================] - 390s 533us/step - loss: 0.1058 - precision_metric: 0.7198 - recall_metric: 0.5142 - f1_metric: 0.5794 - val_loss: 0.1155 - val_precision_metric: 0.6887 - val_recall_metric: 0.4695 - val_f1_metric: 0.5376\n",
      "Epoch 12/20\n",
      "731428/731428 [==============================] - 376s 513us/step - loss: 0.1044 - precision_metric: 0.7263 - recall_metric: 0.5240 - f1_metric: 0.5877 - val_loss: 0.1155 - val_precision_metric: 0.6668 - val_recall_metric: 0.5315 - val_f1_metric: 0.5720\n",
      "Epoch 13/20\n",
      "731428/731428 [==============================] - 371s 507us/step - loss: 0.1029 - precision_metric: 0.7311 - recall_metric: 0.5311 - f1_metric: 0.5935 - val_loss: 0.1152 - val_precision_metric: 0.6626 - val_recall_metric: 0.5433 - val_f1_metric: 0.5779\n",
      "Epoch 14/20\n",
      "731428/731428 [==============================] - 370s 506us/step - loss: 0.1015 - precision_metric: 0.7336 - recall_metric: 0.5407 - f1_metric: 0.6020 - val_loss: 0.1151 - val_precision_metric: 0.7029 - val_recall_metric: 0.4551 - val_f1_metric: 0.5325\n",
      "Epoch 15/20\n",
      "731428/731428 [==============================] - 371s 507us/step - loss: 0.1001 - precision_metric: 0.7412 - recall_metric: 0.5480 - f1_metric: 0.6094 - val_loss: 0.1143 - val_precision_metric: 0.6887 - val_recall_metric: 0.4926 - val_f1_metric: 0.5541\n",
      "Epoch 16/20\n",
      "731428/731428 [==============================] - 372s 509us/step - loss: 0.0989 - precision_metric: 0.7454 - recall_metric: 0.5547 - f1_metric: 0.6144 - val_loss: 0.1136 - val_precision_metric: 0.6949 - val_recall_metric: 0.4856 - val_f1_metric: 0.5515\n",
      "Epoch 17/20\n",
      "731428/731428 [==============================] - 375s 513us/step - loss: 0.0975 - precision_metric: 0.7484 - recall_metric: 0.5634 - f1_metric: 0.6225 - val_loss: 0.1140 - val_precision_metric: 0.6944 - val_recall_metric: 0.4878 - val_f1_metric: 0.5526\n",
      "Epoch 18/20\n",
      "731428/731428 [==============================] - 372s 509us/step - loss: 0.0963 - precision_metric: 0.7556 - recall_metric: 0.5713 - f1_metric: 0.6302 - val_loss: 0.1131 - val_precision_metric: 0.6809 - val_recall_metric: 0.5264 - val_f1_metric: 0.5744\n",
      "Epoch 19/20\n",
      "731428/731428 [==============================] - 372s 508us/step - loss: 0.0951 - precision_metric: 0.7585 - recall_metric: 0.5782 - f1_metric: 0.6356 - val_loss: 0.1132 - val_precision_metric: 0.6960 - val_recall_metric: 0.4869 - val_f1_metric: 0.5535\n",
      "Epoch 20/20\n",
      "731428/731428 [==============================] - 368s 503us/step - loss: 0.0939 - precision_metric: 0.7627 - recall_metric: 0.5845 - f1_metric: 0.6417 - val_loss: 0.1130 - val_precision_metric: 0.6727 - val_recall_metric: 0.5526 - val_f1_metric: 0.5882\n"
     ]
    },
    {
     "data": {
      "text/plain": [
       "<keras.callbacks.History at 0x7ffa22870748>"
      ]
     },
     "execution_count": 19,
     "metadata": {
      "tags": []
     },
     "output_type": "execute_result"
    }
   ],
   "source": [
    "from numpy import loadtxt\n",
    "\n",
    "model = Sequential()\n",
    "model.add(Dense(2048, input_dim=28592, activation='relu'))\n",
    "model.add(Dense(1, activation='sigmoid'))\n",
    "sgd = SGD(lr=1e-2, momentum=0.9)\n",
    "model.compile(loss='binary_crossentropy', optimizer=sgd, metrics=[precision_metric, recall_metric, f1_metric])\n",
    "\n",
    "X_train_val, X_val, y_train_val, y_val = train_test_split(\n",
    "    X_train, y_train, random_state=3, test_size=0.2, shuffle=True)\n",
    "\n",
    "DNN_BEST_MODEL = 'single_layer_one.hdf5'\n",
    "MODEl_FILE_PATH =  os.path.join(DATA_DIR, DNN_BEST_MODEL)\n",
    "check_ptr = ModelCheckpoint(save_best_only=True, filepath=MODEl_FILE_PATH)\n",
    "early_stopper = EarlyStopping(monitor='val_loss', patience=3)\n",
    "\n",
    "# Compute class weights\n",
    "class_weight = compute_class_weight('balanced', np.unique(y_train), y_train)\n",
    "\n",
    "# Fit the model\n",
    "model.fit(X_train_val, y_train_val, batch_size=128,\n",
    "          epochs=20, class_weight=class_weight,\n",
    "          validation_data=(X_val,y_val), callbacks=[check_ptr, early_stopper])\n"
   ]
  },
  {
   "cell_type": "code",
   "execution_count": 0,
   "metadata": {
    "colab": {
     "base_uri": "https://localhost:8080/",
     "height": 497
    },
    "colab_type": "code",
    "id": "4NFQULpzRvLF",
    "outputId": "14505949-1faa-4ce5-ea90-66fe7ff04c58"
   },
   "outputs": [
    {
     "data": {
      "image/png": "[encoded data removed]",
      "text/plain": [
       "<IPython.core.display.Image object>"
      ]
     },
     "execution_count": 26,
     "metadata": {
      "tags": []
     },
     "output_type": "execute_result"
    }
   ],
   "source": [
    "# DNN convergence plot\n",
    "from IPython.display import Image\n",
    "dnn_plot = os.path.join(DATA_DIR, 'dnn_convergence_plot.png')\n",
    "Image(dnn_plot)"
   ]
  },
  {
   "cell_type": "code",
   "execution_count": 0,
   "metadata": {
    "colab": {
     "base_uri": "https://localhost:8080/",
     "height": 107
    },
    "colab_type": "code",
    "id": "lK1vZSGIJoac",
    "outputId": "c25d4e51-ac85-4936-9348-2844e650b6f6"
   },
   "outputs": [
    {
     "name": "stdout",
     "output_type": "stream",
     "text": [
      "WARNING:tensorflow:From /usr/local/lib/python3.6/dist-packages/keras/backend/tensorflow_backend.py:1033: The name tf.assign_add is deprecated. Please use tf.compat.v1.assign_add instead.\n",
      "\n",
      "WARNING:tensorflow:From /usr/local/lib/python3.6/dist-packages/keras/backend/tensorflow_backend.py:1020: The name tf.assign is deprecated. Please use tf.compat.v1.assign instead.\n",
      "\n"
     ]
    }
   ],
   "source": [
    "# Take predictions on test set\n",
    "from keras.models import load_model\n",
    "DNN_BEST_MODEL = 'single_layer_one.hdf5'\n",
    "DNN_FILE_PATH = os.path.join(DATA_DIR, DNN_BEST_MODEL)\n",
    "dnn = load_model(DNN_FILE_PATH, \n",
    "                 custom_objects={'precision_metric': precision_metric,\n",
    "                                 'recall_metric': recall_metric,\n",
    "                                 'f1_metric': f1_metric})\n",
    "test_preds = dnn.predict(X_test)"
   ]
  },
  {
   "cell_type": "code",
   "execution_count": 0,
   "metadata": {
    "colab": {
     "base_uri": "https://localhost:8080/",
     "height": 70
    },
    "colab_type": "code",
    "id": "uutCUL50KRou",
    "outputId": "d4243fab-eb01-4424-f23b-8ef74590141b"
   },
   "outputs": [
    {
     "name": "stdout",
     "output_type": "stream",
     "text": [
      "Precision of predictions of single layer DNN  0.6695517310386232\n",
      "Recall of predictions of single layer DNN  0.5553572910614989\n",
      "f1_score of predictions of single layer DNN  0.6071315156739101\n"
     ]
    }
   ],
   "source": [
    "# Obtain DNN test set predictions precision, recall and F1-score\n",
    "test_preds = [1 if x >= 0.5 else 0 for x in test_preds]\n",
    "prec = precision_score(y_test, test_preds)\n",
    "recall = recall_score(y_test, test_preds)\n",
    "f1_score = (2*prec*recall) / (prec+recall)\n",
    "print (\"Precision of predictions of single layer DNN \", prec)\n",
    "print (\"Recall of predictions of single layer DNN \", recall)\n",
    "print (\"f1_score of predictions of single layer DNN \", f1_score)"
   ]
  },
  {
   "cell_type": "markdown",
   "metadata": {
    "colab_type": "text",
    "id": "TpH2ogV5guhh"
   },
   "source": [
    "**2.4.5 Convolutional Neural Net with word embeddings**  \n",
    "In this section, we train and evaluate convolutional neural net classifier on word vector feature representation of the data.\n",
    "\n",
    "*    We employ the **CNN architecture** from [2] for our text classification task. The CNN architecture under consideratioin has previously been shown to work quite well on text classification tasks with small sequence lengths.\n",
    "\n",
    "*    We use **special pre-processing** here to clean off symbols other than letters, digits and punctuations from the input sentences, as that has been used as a pre-processing method before passing input to CNN architecture in [2].\n",
    "\n",
    "*    In order, to **keep the number of words seen by the classifier close** to other ML algorithms presented in this work,  we compute which all words appear in the corpus with document frequency 0.001% (after cleaning mentioned above), and use word vector representation for those words only.\n",
    "\n",
    "*    We replace **all other (out of vocabulary) words in the corpus with special word \"UNQ\"** and use word vector representation of the same to train the model."
   ]
  },
  {
   "cell_type": "code",
   "execution_count": 0,
   "metadata": {
    "colab": {},
    "colab_type": "code",
    "id": "aYxv2iSGCqUc"
   },
   "outputs": [],
   "source": [
    "def clean_str(string):\n",
    "    \"\"\"\n",
    "    Tokenization/string cleaning for datasets.\n",
    "    Original taken from https://github.com/yoonkim/CNN_sentence/blob/master/process_data.py\n",
    "    \"\"\"\n",
    "    import re\n",
    "    string = re.sub(r\"[^A-Za-z0-9(),!?\\'\\`]\", ' ', string)\n",
    "    string = re.sub(r\"\\'s\", \" \\'s\", string)\n",
    "    string = re.sub(r\"\\'ve\", \" \\'ve\", string)\n",
    "    string = re.sub(r\"n\\'t\", \" n\\'t\", string)\n",
    "    string = re.sub(r\"\\'re\", \" \\'re\", string)\n",
    "    string = re.sub(r\"\\'d\", \" \\'d\", string)\n",
    "    string = re.sub(r\"\\'ll\", \" \\'ll\", string)\n",
    "    string = re.sub(r',', ' , ', string)\n",
    "    string = re.sub(r'!', ' ! ', string)\n",
    "    string = re.sub(r'\\(', ' \\( ', string)\n",
    "    string = re.sub(r'\\)', ' \\) ', string)\n",
    "    string = re.sub(r'\\?', ' \\? ', string)\n",
    "    string = re.sub(r'\\s{2,}', ' ', string)\n",
    "    return string.strip().lower()"
   ]
  },
  {
   "cell_type": "code",
   "execution_count": 0,
   "metadata": {
    "colab": {},
    "colab_type": "code",
    "id": "HHtm3tv35ORo"
   },
   "outputs": [],
   "source": [
    "def train_custom_cnn(seq_length, embedding_dim, vocab_size):\n",
    "\n",
    "    input = Input(shape=(seq_length,), name='text_input')\n",
    "\n",
    "    embedding = Embedding(output_dim=embedding_dim, input_dim=vocab_size, input_length=seq_length)(input)\n",
    "\n",
    "    reshape = Reshape((seq_length, embedding_dim, 1))(embedding)\n",
    "\n",
    "    conv_0 = Conv2D(NUM_FILTERS, FILTER_SIZES[0], embedding_dim, border_mode='valid', init='normal',\n",
    "                    activation='relu', dim_ordering='tf')(reshape)\n",
    "    conv_1 = Conv2D(NUM_FILTERS, FILTER_SIZES[1], embedding_dim, border_mode='valid', init='normal',\n",
    "                    activation='relu', dim_ordering='tf')(reshape)\n",
    "    conv_2 = Conv2D(NUM_FILTERS, FILTER_SIZES[2], embedding_dim, border_mode='valid', init='normal',\n",
    "                    activation='relu', dim_ordering='tf')(reshape)\n",
    "\n",
    "    maxpool_0 = MaxPooling2D(pool_size=(seq_length-FILTER_SIZES[0]+1, 1), strides=(1, 1), border_mode='valid',\n",
    "                             dim_ordering='tf')(conv_0)\n",
    "    maxpool_1 = MaxPooling2D(pool_size=(seq_length-FILTER_SIZES[1]+1, 1), strides=(1, 1), border_mode='valid',\n",
    "                             dim_ordering='tf')(conv_1)\n",
    "    maxpool_2 = MaxPooling2D(pool_size=(seq_length-FILTER_SIZES[2]+1, 1), strides=(1, 1), border_mode='valid',\n",
    "                             dim_ordering='tf')(conv_2)\n",
    "\n",
    "    merged_tensor = merge([maxpool_0, maxpool_1, maxpool_2], mode='concat', concat_axis=1)\n",
    "\n",
    "    flatten = Flatten()(merged_tensor)\n",
    "\n",
    "    drop = Dropout(rate=0.5)(flatten)\n",
    "\n",
    "    final_output = Dense(1, activation='sigmoid')(drop)\n",
    "\n",
    "    final_model = Model(inputs=[input], outputs=[final_output])\n",
    "\n",
    "    return final_model\n"
   ]
  },
  {
   "cell_type": "code",
   "execution_count": 0,
   "metadata": {
    "colab": {},
    "colab_type": "code",
    "id": "JbvGUbx5jSHO"
   },
   "outputs": [],
   "source": [
    "# Model constants\n",
    "NUM_FILTERS = 512\n",
    "FILTER_SIZES = [3, 4, 5]\n",
    "seq_length = 40\n",
    "embed_size = 300\n",
    "EPOCHS_PATIENCE_BEFORE_STOPPING = 4\n",
    "EPOCHS_PATIENCE_BEFORE_DECAY = 2\n",
    "CNN_BEST_MODEL = os.path.join(DATA_DIR, 'cnn_final.hdf5')"
   ]
  },
  {
   "cell_type": "code",
   "execution_count": 0,
   "metadata": {
    "colab": {},
    "colab_type": "code",
    "id": "5W6pND-ZjZpA"
   },
   "outputs": [],
   "source": [
    "# Clean data_text\n",
    "train_cleaned_texts = [''] * len(train_texts)\n",
    "test_cleaned_texts = [''] * len(test_texts)\n",
    "for i in range(len(train_texts)):\n",
    "    train_cleaned_texts[i] = clean_str(train_texts[i])\n",
    "for i in range(len(test_texts)):\n",
    "    test_cleaned_texts[i] = clean_str(test_texts[i])"
   ]
  },
  {
   "cell_type": "code",
   "execution_count": 0,
   "metadata": {
    "colab": {
     "base_uri": "https://localhost:8080/",
     "height": 35
    },
    "colab_type": "code",
    "id": "N3SluhNtEhKQ",
    "outputId": "f82ca005-b136-426c-ee52-2544e3a7dd7b"
   },
   "outputs": [
    {
     "name": "stdout",
     "output_type": "stream",
     "text": [
      "Length of vocabulary of vectorizer 28596\n"
     ]
    }
   ],
   "source": [
    "# Define tfidf feature extractor.\n",
    "# This is just used to filter out words in vocab which are rarely used.\n",
    "vectorizer_1 = TfidfVectorizer(min_df=0.00001)  # Ignore words where document freq is lt 0.001%\n",
    "\n",
    "# Train vectorizer on the text data\n",
    "vectorizer_1.fit(train_cleaned_texts)\n",
    "print (\"Length of vocabulary of vectorizer\", len(vectorizer_1.vocabulary_))\n",
    "\n",
    "# Obtain the relevant words in vocabulary and their  indices\n",
    "vocabulary = vectorizer_1.vocabulary_\n",
    "vocabulary['UNQ'] = len(vocabulary)  # Add new word UNQ to vocab, so that words out of vocab in train and text can\n",
    "# be replaced by this\n",
    "\n",
    "# Compute class weights\n",
    "class_weight = compute_class_weight('balanced', np.unique(y_train), y_train)"
   ]
  },
  {
   "cell_type": "code",
   "execution_count": 0,
   "metadata": {
    "colab": {
     "base_uri": "https://localhost:8080/",
     "height": 52
    },
    "colab_type": "code",
    "id": "miFvzQYcH_6P",
    "outputId": "f1504db2-5bb9-49af-84b5-eaa4909c4f91"
   },
   "outputs": [
    {
     "name": "stdout",
     "output_type": "stream",
     "text": [
      "Shape of train features (914285, 40)\n",
      "Shape of test features (391837, 40)\n"
     ]
    }
   ],
   "source": [
    "# Convert train text to a list of list of words\n",
    "for i in range(len(train_cleaned_texts)):\n",
    "    train_cleaned_texts[i] = train_cleaned_texts[i].split()\n",
    "    no_words = len(train_cleaned_texts[i])\n",
    "    if no_words < seq_length:\n",
    "        train_cleaned_texts[i] = train_cleaned_texts[i] + ['UNQ'] * (seq_length - no_words)\n",
    "\n",
    "# Convert test text to a list of list of words\n",
    "for i in range(len(test_cleaned_texts)):\n",
    "    test_cleaned_texts[i] = test_cleaned_texts[i].split()\n",
    "    no_words = len(test_cleaned_texts[i])\n",
    "    if no_words < seq_length:\n",
    "        test_cleaned_texts[i] = test_cleaned_texts[i] + ['UNQ'] * (seq_length - no_words)\n",
    "\n",
    "# Modify given train_text and test_text with vocabulary dictionary\n",
    "for i in range(len(train_cleaned_texts)):\n",
    "    train_cleaned_texts[i] = train_cleaned_texts[i][:seq_length]\n",
    "    for j in range(seq_length):\n",
    "        word = train_cleaned_texts[i][j]\n",
    "        try:\n",
    "            train_cleaned_texts[i][j] = vocabulary[word]\n",
    "        except KeyError:\n",
    "            train_cleaned_texts[i][j] = vocabulary['UNQ']\n",
    "\n",
    "for i in range(len(test_cleaned_texts)):\n",
    "    test_cleaned_texts[i] = test_cleaned_texts[i][:seq_length]\n",
    "    for j in range(seq_length):\n",
    "        word = test_cleaned_texts[i][j]\n",
    "        try:\n",
    "            test_cleaned_texts[i][j] = vocabulary[word]\n",
    "        except KeyError:\n",
    "            test_cleaned_texts[i][j] = vocabulary['UNQ']\n",
    "\n",
    "train_feats = np.array(train_cleaned_texts)\n",
    "test_feats = np.array(test_cleaned_texts)\n",
    "print (\"Shape of train features\", train_feats.shape)\n",
    "print (\"Shape of test features\", test_feats.shape)"
   ]
  },
  {
   "cell_type": "code",
   "execution_count": 0,
   "metadata": {
    "colab": {
     "base_uri": "https://localhost:8080/",
     "height": 635
    },
    "colab_type": "code",
    "id": "LBUhnTekJnBS",
    "outputId": "78fc6f1f-5580-4a3e-935a-2fb04a5478c5"
   },
   "outputs": [
    {
     "name": "stdout",
     "output_type": "stream",
     "text": [
      "WARNING:tensorflow:From /usr/local/lib/python3.6/dist-packages/keras/backend/tensorflow_backend.py:504: The name tf.placeholder is deprecated. Please use tf.compat.v1.placeholder instead.\n",
      "\n",
      "WARNING:tensorflow:From /usr/local/lib/python3.6/dist-packages/keras/backend/tensorflow_backend.py:68: The name tf.get_default_graph is deprecated. Please use tf.compat.v1.get_default_graph instead.\n",
      "\n",
      "WARNING:tensorflow:From /usr/local/lib/python3.6/dist-packages/keras/backend/tensorflow_backend.py:3828: The name tf.random_uniform is deprecated. Please use tf.random.uniform instead.\n",
      "\n",
      "WARNING:tensorflow:From /usr/local/lib/python3.6/dist-packages/keras/backend/tensorflow_backend.py:3805: The name tf.random_normal is deprecated. Please use tf.random.normal instead.\n",
      "\n",
      "WARNING:tensorflow:From /usr/local/lib/python3.6/dist-packages/keras/backend/tensorflow_backend.py:3652: The name tf.nn.max_pool is deprecated. Please use tf.nn.max_pool2d instead.\n",
      "\n",
      "WARNING:tensorflow:From /usr/local/lib/python3.6/dist-packages/keras/backend/tensorflow_backend.py:126: The name tf.placeholder_with_default is deprecated. Please use tf.compat.v1.placeholder_with_default instead.\n",
      "\n",
      "WARNING:tensorflow:From /usr/local/lib/python3.6/dist-packages/keras/backend/tensorflow_backend.py:3135: calling dropout (from tensorflow.python.ops.nn_ops) with keep_prob is deprecated and will be removed in a future version.\n",
      "Instructions for updating:\n",
      "Please use `rate` instead of `keep_prob`. Rate should be set to `rate = 1 - keep_prob`.\n",
      "WARNING:tensorflow:From /usr/local/lib/python3.6/dist-packages/keras/optimizers.py:752: The name tf.train.Optimizer is deprecated. Please use tf.compat.v1.train.Optimizer instead.\n",
      "\n",
      "WARNING:tensorflow:From /usr/local/lib/python3.6/dist-packages/keras/backend/tensorflow_backend.py:3066: The name tf.log is deprecated. Please use tf.math.log instead.\n",
      "\n",
      "WARNING:tensorflow:From /usr/local/lib/python3.6/dist-packages/tensorflow_core/python/ops/nn_impl.py:183: where (from tensorflow.python.ops.array_ops) is deprecated and will be removed in a future version.\n",
      "Instructions for updating:\n",
      "Use tf.where in 2.0, which has the same broadcast rule as np.where\n"
     ]
    },
    {
     "name": "stderr",
     "output_type": "stream",
     "text": [
      "/usr/local/lib/python3.6/dist-packages/ipykernel_launcher.py:10: UserWarning: Update your `Conv2D` call to the Keras 2 API: `Conv2D(512, (3, 300), activation=\"relu\", padding=\"valid\", data_format=\"channels_last\", kernel_initializer=\"normal\")`\n",
      "  # Remove the CWD from sys.path while we load stuff.\n",
      "/usr/local/lib/python3.6/dist-packages/ipykernel_launcher.py:12: UserWarning: Update your `Conv2D` call to the Keras 2 API: `Conv2D(512, (4, 300), activation=\"relu\", padding=\"valid\", data_format=\"channels_last\", kernel_initializer=\"normal\")`\n",
      "  if sys.path[0] == '':\n",
      "/usr/local/lib/python3.6/dist-packages/ipykernel_launcher.py:14: UserWarning: Update your `Conv2D` call to the Keras 2 API: `Conv2D(512, (5, 300), activation=\"relu\", padding=\"valid\", data_format=\"channels_last\", kernel_initializer=\"normal\")`\n",
      "  \n",
      "/usr/local/lib/python3.6/dist-packages/ipykernel_launcher.py:17: UserWarning: Update your `MaxPooling2D` call to the Keras 2 API: `MaxPooling2D(pool_size=(38, 1), strides=(1, 1), padding=\"valid\", data_format=\"channels_last\")`\n",
      "/usr/local/lib/python3.6/dist-packages/ipykernel_launcher.py:19: UserWarning: Update your `MaxPooling2D` call to the Keras 2 API: `MaxPooling2D(pool_size=(37, 1), strides=(1, 1), padding=\"valid\", data_format=\"channels_last\")`\n",
      "/usr/local/lib/python3.6/dist-packages/ipykernel_launcher.py:21: UserWarning: Update your `MaxPooling2D` call to the Keras 2 API: `MaxPooling2D(pool_size=(36, 1), strides=(1, 1), padding=\"valid\", data_format=\"channels_last\")`\n",
      "/usr/local/lib/python3.6/dist-packages/ipykernel_launcher.py:23: UserWarning: The `merge` function is deprecated and will be removed after 08/2017. Use instead layers from `keras.layers.merge`, e.g. `add`, `concatenate`, etc.\n",
      "/usr/local/lib/python3.6/dist-packages/keras/legacy/layers.py:464: UserWarning: The `Merge` layer is deprecated and will be removed after 08/2017. Use instead layers from `keras.layers.merge`, e.g. `add`, `concatenate`, etc.\n",
      "  name=name)\n"
     ]
    }
   ],
   "source": [
    "# Define model and model training call backs \n",
    "cnn = train_custom_cnn(seq_length=seq_length, embedding_dim=embed_size, vocab_size=len(vocabulary))\n",
    "sgd = SGD(lr=1e-2, momentum=0.9)\n",
    "cnn.compile(optimizer=sgd, loss='binary_crossentropy', metrics=[precision_metric, recall_metric, f1_metric])\n",
    "\n",
    "check_pointer = ModelCheckpoint(filepath=CNN_BEST_MODEL, verbose=1, save_best_only=True)\n",
    "early_stopper = EarlyStopping(monitor='val_loss', patience=EPOCHS_PATIENCE_BEFORE_STOPPING)\n",
    "reduce_lr_on_plateau = ReduceLROnPlateau(monitor='val_loss', factor=0.5, patience=EPOCHS_PATIENCE_BEFORE_DECAY,\n",
    "                                          verbose=1, min_lr=1e-7)"
   ]
  },
  {
   "cell_type": "code",
   "execution_count": 0,
   "metadata": {
    "colab": {
     "base_uri": "https://localhost:8080/",
     "height": 916
    },
    "colab_type": "code",
    "id": "gtf3XdJELfPN",
    "outputId": "12430abf-3352-4226-c6d0-186958b76187"
   },
   "outputs": [
    {
     "name": "stdout",
     "output_type": "stream",
     "text": [
      "Train on 731428 samples, validate on 182857 samples\n",
      "Epoch 1/100\n",
      " - 221s - loss: 0.1048 - precision_metric: 0.7284 - recall_metric: 0.5300 - f1_metric: 0.5920 - val_loss: 0.1028 - val_precision_metric: 0.7522 - val_recall_metric: 0.5076 - val_f1_metric: 0.5859\n",
      "\n",
      "Epoch 00001: val_loss improved from 0.11236 to 0.10278, saving model to /content/drive/My Drive/iml_project/quora_insincere_data/cnn_final.hdf5\n",
      "Epoch 2/100\n",
      " - 230s - loss: 0.1018 - precision_metric: 0.7387 - recall_metric: 0.5447 - f1_metric: 0.6062 - val_loss: 0.1036 - val_precision_metric: 0.7594 - val_recall_metric: 0.4927 - val_f1_metric: 0.5775\n",
      "\n",
      "Epoch 00002: val_loss did not improve\n",
      "Epoch 3/100\n",
      " - 231s - loss: 0.0993 - precision_metric: 0.7474 - recall_metric: 0.5556 - f1_metric: 0.6174 - val_loss: 0.1027 - val_precision_metric: 0.7173 - val_recall_metric: 0.5839 - val_f1_metric: 0.6252\n",
      "\n",
      "Epoch 00003: val_loss improved from 0.10278 to 0.10265, saving model to /content/drive/My Drive/iml_project/quora_insincere_data/cnn_final.hdf5\n",
      "Epoch 4/100\n",
      " - 231s - loss: 0.0966 - precision_metric: 0.7506 - recall_metric: 0.5699 - f1_metric: 0.6283 - val_loss: 0.1028 - val_precision_metric: 0.7402 - val_recall_metric: 0.5312 - val_f1_metric: 0.5995\n",
      "\n",
      "Epoch 00004: val_loss did not improve\n",
      "Epoch 5/100\n",
      " - 231s - loss: 0.0940 - precision_metric: 0.7614 - recall_metric: 0.5805 - f1_metric: 0.6383 - val_loss: 0.1036 - val_precision_metric: 0.7148 - val_recall_metric: 0.5780 - val_f1_metric: 0.6204\n",
      "\n",
      "Epoch 00005: val_loss did not improve\n",
      "Epoch 6/100\n",
      " - 231s - loss: 0.0914 - precision_metric: 0.7702 - recall_metric: 0.5949 - f1_metric: 0.6525 - val_loss: 0.1032 - val_precision_metric: 0.7315 - val_recall_metric: 0.5529 - val_f1_metric: 0.6106\n",
      "\n",
      "Epoch 00006: val_loss did not improve\n",
      "\n",
      "Epoch 00006: ReduceLROnPlateau reducing learning rate to 0.004999999888241291.\n",
      "Epoch 7/100\n",
      " - 231s - loss: 0.0862 - precision_metric: 0.7870 - recall_metric: 0.6181 - f1_metric: 0.6744 - val_loss: 0.1021 - val_precision_metric: 0.7198 - val_recall_metric: 0.5740 - val_f1_metric: 0.6205\n",
      "\n",
      "Epoch 00007: val_loss improved from 0.10265 to 0.10213, saving model to /content/drive/My Drive/iml_project/quora_insincere_data/cnn_final.hdf5\n",
      "Epoch 8/100\n",
      " - 231s - loss: 0.0846 - precision_metric: 0.7917 - recall_metric: 0.6262 - f1_metric: 0.6818 - val_loss: 0.1022 - val_precision_metric: 0.7338 - val_recall_metric: 0.5559 - val_f1_metric: 0.6133\n",
      "\n",
      "Epoch 00008: val_loss did not improve\n",
      "Epoch 9/100\n",
      " - 231s - loss: 0.0827 - precision_metric: 0.8002 - recall_metric: 0.6380 - f1_metric: 0.6928 - val_loss: 0.1030 - val_precision_metric: 0.7412 - val_recall_metric: 0.5347 - val_f1_metric: 0.6013\n",
      "\n",
      "Epoch 00009: val_loss did not improve\n",
      "Epoch 10/100\n",
      " - 231s - loss: 0.0811 - precision_metric: 0.8029 - recall_metric: 0.6418 - f1_metric: 0.6961 - val_loss: 0.1030 - val_precision_metric: 0.7313 - val_recall_metric: 0.5502 - val_f1_metric: 0.6090\n",
      "\n",
      "Epoch 00010: val_loss did not improve\n",
      "\n",
      "Epoch 00010: ReduceLROnPlateau reducing learning rate to 0.0024999999441206455.\n",
      "Epoch 11/100\n",
      " - 230s - loss: 0.0782 - precision_metric: 0.8133 - recall_metric: 0.6561 - f1_metric: 0.7096 - val_loss: 0.1026 - val_precision_metric: 0.7354 - val_recall_metric: 0.5517 - val_f1_metric: 0.6112\n",
      "\n",
      "Epoch 00011: val_loss did not improve\n"
     ]
    },
    {
     "data": {
      "text/plain": [
       "<keras.callbacks.History at 0x7fb5d11106a0>"
      ]
     },
     "execution_count": 16,
     "metadata": {
      "tags": []
     },
     "output_type": "execute_result"
    }
   ],
   "source": [
    "# Form validation set as well\n",
    "train_val_feats, val_feats, y_train_val, y_val = train_test_split(\n",
    "    train_feats, y_train, random_state=3, test_size=0.2, shuffle=True)\n",
    "\n",
    "# Call fit method for CNN\n",
    "cnn.fit(train_val_feats, y_train_val,\n",
    "        validation_data=[val_feats, y_val],\n",
    "        class_weight=class_weight,\n",
    "        batch_size=128, epochs=100,\n",
    "        callbacks=[check_pointer, early_stopper, reduce_lr_on_plateau],\n",
    "        verbose=2)"
   ]
  },
  {
   "cell_type": "code",
   "execution_count": 0,
   "metadata": {
    "colab": {
     "base_uri": "https://localhost:8080/",
     "height": 497
    },
    "colab_type": "code",
    "id": "jP_zf7ONP4k3",
    "outputId": "78d1f1b6-8974-4405-839c-4fd5026db9cc"
   },
   "outputs": [
    {
     "data": {
      "image/png": "[encoded data removed]",
      "text/plain": [
       "<IPython.core.display.Image object>"
      ]
     },
     "execution_count": 24,
     "metadata": {
      "tags": []
     },
     "output_type": "execute_result"
    }
   ],
   "source": [
    "# CNN convergence plot\n",
    "from IPython.display import Image\n",
    "cnn_plot = os.path.join(DATA_DIR, 'cnn_convergence_plot.png')\n",
    "Image(cnn_plot)"
   ]
  },
  {
   "cell_type": "code",
   "execution_count": 0,
   "metadata": {
    "colab": {
     "base_uri": "https://localhost:8080/",
     "height": 740
    },
    "colab_type": "code",
    "id": "SlkG3F_POFxI",
    "outputId": "367ce09e-c5a0-4d43-fe8e-063b4eae7e4b"
   },
   "outputs": [
    {
     "name": "stdout",
     "output_type": "stream",
     "text": [
      "WARNING:tensorflow:From /usr/local/lib/python3.6/dist-packages/keras/backend/tensorflow_backend.py:504: The name tf.placeholder is deprecated. Please use tf.compat.v1.placeholder instead.\n",
      "\n"
     ]
    },
    {
     "name": "stderr",
     "output_type": "stream",
     "text": [
      "/usr/local/lib/python3.6/dist-packages/keras/engine/topology.py:1269: UserWarning: The `Merge` layer is deprecated and will be removed after 08/2017. Use instead layers from `keras.layers.merge`, e.g. `add`, `concatenate`, etc.\n",
      "  return cls(**config)\n"
     ]
    },
    {
     "name": "stdout",
     "output_type": "stream",
     "text": [
      "WARNING:tensorflow:From /usr/local/lib/python3.6/dist-packages/keras/backend/tensorflow_backend.py:3828: The name tf.random_uniform is deprecated. Please use tf.random.uniform instead.\n",
      "\n",
      "WARNING:tensorflow:From /usr/local/lib/python3.6/dist-packages/keras/backend/tensorflow_backend.py:3805: The name tf.random_normal is deprecated. Please use tf.random.normal instead.\n",
      "\n",
      "WARNING:tensorflow:From /usr/local/lib/python3.6/dist-packages/keras/backend/tensorflow_backend.py:3652: The name tf.nn.max_pool is deprecated. Please use tf.nn.max_pool2d instead.\n",
      "\n",
      "WARNING:tensorflow:From /usr/local/lib/python3.6/dist-packages/keras/backend/tensorflow_backend.py:124: The name tf.get_default_graph is deprecated. Please use tf.compat.v1.get_default_graph instead.\n",
      "\n",
      "WARNING:tensorflow:From /usr/local/lib/python3.6/dist-packages/keras/backend/tensorflow_backend.py:126: The name tf.placeholder_with_default is deprecated. Please use tf.compat.v1.placeholder_with_default instead.\n",
      "\n",
      "WARNING:tensorflow:From /usr/local/lib/python3.6/dist-packages/keras/backend/tensorflow_backend.py:3135: calling dropout (from tensorflow.python.ops.nn_ops) with keep_prob is deprecated and will be removed in a future version.\n",
      "Instructions for updating:\n",
      "Please use `rate` instead of `keep_prob`. Rate should be set to `rate = 1 - keep_prob`.\n",
      "WARNING:tensorflow:From /usr/local/lib/python3.6/dist-packages/keras/backend/tensorflow_backend.py:166: The name tf.get_default_session is deprecated. Please use tf.compat.v1.get_default_session instead.\n",
      "\n",
      "WARNING:tensorflow:From /usr/local/lib/python3.6/dist-packages/keras/backend/tensorflow_backend.py:171: The name tf.ConfigProto is deprecated. Please use tf.compat.v1.ConfigProto instead.\n",
      "\n",
      "WARNING:tensorflow:From /usr/local/lib/python3.6/dist-packages/keras/backend/tensorflow_backend.py:176: The name tf.Session is deprecated. Please use tf.compat.v1.Session instead.\n",
      "\n",
      "WARNING:tensorflow:From /usr/local/lib/python3.6/dist-packages/keras/backend/tensorflow_backend.py:180: The name tf.global_variables is deprecated. Please use tf.compat.v1.global_variables instead.\n",
      "\n",
      "WARNING:tensorflow:From /usr/local/lib/python3.6/dist-packages/keras/backend/tensorflow_backend.py:189: The name tf.is_variable_initialized is deprecated. Please use tf.compat.v1.is_variable_initialized instead.\n",
      "\n",
      "WARNING:tensorflow:From /usr/local/lib/python3.6/dist-packages/keras/backend/tensorflow_backend.py:196: The name tf.variables_initializer is deprecated. Please use tf.compat.v1.variables_initializer instead.\n",
      "\n",
      "WARNING:tensorflow:From /usr/local/lib/python3.6/dist-packages/keras/optimizers.py:752: The name tf.train.Optimizer is deprecated. Please use tf.compat.v1.train.Optimizer instead.\n",
      "\n",
      "WARNING:tensorflow:From /usr/local/lib/python3.6/dist-packages/keras/backend/tensorflow_backend.py:3066: The name tf.log is deprecated. Please use tf.math.log instead.\n",
      "\n",
      "WARNING:tensorflow:From /usr/local/lib/python3.6/dist-packages/tensorflow_core/python/ops/nn_impl.py:183: where (from tensorflow.python.ops.array_ops) is deprecated and will be removed in a future version.\n",
      "Instructions for updating:\n",
      "Use tf.where in 2.0, which has the same broadcast rule as np.where\n",
      "WARNING:tensorflow:From /usr/local/lib/python3.6/dist-packages/keras/backend/tensorflow_backend.py:973: The name tf.assign_add is deprecated. Please use tf.compat.v1.assign_add instead.\n",
      "\n",
      "WARNING:tensorflow:From /usr/local/lib/python3.6/dist-packages/keras/backend/tensorflow_backend.py:960: The name tf.assign is deprecated. Please use tf.compat.v1.assign instead.\n",
      "\n"
     ]
    }
   ],
   "source": [
    "from keras.models import load_model\n",
    "cnn = load_model(CNN_BEST_MODEL, \n",
    "                 custom_objects={'precision_metric': precision_metric,\n",
    "                                 'recall_metric': recall_metric,\n",
    "                                 'f1_metric': f1_metric})\n",
    "test_preds = cnn.predict(test_feats)"
   ]
  },
  {
   "cell_type": "code",
   "execution_count": 0,
   "metadata": {
    "colab": {
     "base_uri": "https://localhost:8080/",
     "height": 70
    },
    "colab_type": "code",
    "id": "eMziwYS-Jfvv",
    "outputId": "2a1379f2-8a85-452e-8d00-f28b3305fe0a"
   },
   "outputs": [
    {
     "name": "stdout",
     "output_type": "stream",
     "text": [
      "Precision of predictions from text CNN  0.6899595830674324\n",
      "Recall of predictions from text CNN  0.53838492820981\n",
      "f1_score of predictions from text CNN  0.604820288098457\n"
     ]
    }
   ],
   "source": [
    "# Obtain DNN test set predictions precision, recall and F1-score\n",
    "test_preds = [1 if x >= 0.5 else 0 for x in test_preds]\n",
    "prec = precision_score(y_test, test_preds)\n",
    "recall = recall_score(y_test, test_preds)\n",
    "f1_score = (2*prec*recall) / (prec+recall)\n",
    "print (\"Precision of predictions from text CNN \", prec)\n",
    "print (\"Recall of predictions from text CNN \", recall)\n",
    "print (\"f1_score of predictions from text CNN \", f1_score)"
   ]
  },
  {
   "cell_type": "markdown",
   "metadata": {
    "colab_type": "text",
    "id": "Zd6uopUCSA9m"
   },
   "source": [
    "#### **3. Results and  Conclusion**\n",
    "\n",
    "We have splitted the data into train and test set (70 - 30)% split and have used gridsearch CV for hyperparameter tuning and for neural net based models we have created a seperate validation set, the plots for the same are generated in the respective sections. The results on the test set for each model are consolidated below:\n",
    "\n",
    "\n",
    "Model | Precision | Recall | f1 score\n",
    "--- | --- | --- | --- \n",
    "Logistic Regression (Ridge) | 37.42 | 86.12 | 52.17\n",
    "Logistic Regression (Lasso) | 37 | 87 | 52\n",
    "Decision Trees | 55 | 39 | 46\n",
    "Random Forest | 73 | 6 | 11\n",
    "Single Layer NN | 66.95 | 55.53 | 60.71\n",
    "CNN | 68.99 | 53.83 | 60.48 |\n",
    "\n",
    "\n",
    "\n",
    "From above table we can conclude that neural net based models have performed better, with Single Layer NN giving the best metric values for Precision, recall and f1-score. We also observed that, performance of tree based models is not good for this data. Neural Networks and CNNs give much better results in terms of both precision and recall which can be attributed to their ability to model input features to very high dimensional feature space, and in turn learn feature representation that maximises performance on the given data-set\n",
    "\n"
   ]
  },
  {
   "cell_type": "markdown",
   "metadata": {
    "colab_type": "text",
    "id": "4hFIwLB4wwE0"
   },
   "source": [
    "#### **4. Future Plans**\n",
    "We plan to implement Recurrent Neural Networks to detect insincere questions with better F1 score[3]."
   ]
  },
  {
   "cell_type": "markdown",
   "metadata": {
    "colab_type": "text",
    "id": "CH8XoKD6vp5e"
   },
   "source": [
    "#### **5. References**\n",
    "[1] Quora Insincere questions classification: https://www.kaggle.com/c/quora-insincere-questions-classificati\n",
    "\n",
    "[2] Kim, Yoon. ”Convolutional neural networks for sentence classification.” arXiv preprint arXiv:1408.5882 (2014).\n",
    "\n",
    "[3] The Unreasonable Effectiveness of Recurrent Neural Net- works – Blog by Andrej Karpathy http://karpathy.github.io/2015/05/21/rnn-effectiveness/"
   ]
  }
 ],
 "metadata": {
  "accelerator": "GPU",
  "colab": {
   "collapsed_sections": [],
   "name": "final_report_2.ipynb",
   "provenance": []
  },
  "kernelspec": {
   "display_name": "Python 3",
   "language": "python",
   "name": "python3"
  },
  "language_info": {
   "codemirror_mode": {
    "name": "ipython",
    "version": 3
   },
   "file_extension": ".py",
   "mimetype": "text/x-python",
   "name": "python",
   "nbconvert_exporter": "python",
   "pygments_lexer": "ipython3",
   "version": "3.7.3"
  }
 },
 "nbformat": 4,
 "nbformat_minor": 1
}
